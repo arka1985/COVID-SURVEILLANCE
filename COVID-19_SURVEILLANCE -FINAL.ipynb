{
 "cells": [
  {
   "cell_type": "markdown",
   "metadata": {},
   "source": [
    "# <font color='violet'> Dashboard For Monitoring of the Health Status of the Students for Prevention of COVID-19 Transmission </font>"
   ]
  },
  {
   "cell_type": "markdown",
   "metadata": {},
   "source": [
    "#### <font color='turquoise'> Designed and Developed By: Dr. Arkaprabha Sau, Dr. Santanu Phadikar, Ishita Bhakta</font>"
   ]
  },
  {
   "cell_type": "markdown",
   "metadata": {},
   "source": [
    "## <font color='red'> Limitation and Advisory Note </font>"
   ]
  },
  {
   "cell_type": "markdown",
   "metadata": {},
   "source": [
    "#### Success of this system in terms of prevention of transmission of COVID-19 in the educational institute or workplace depends on submission of correct responses in the Google Form. We belief as a responsible student as well as citizen they always submit correct responses. This system is a research endeavor in addition to existing SOPs by the competent authorities for prevention of transmission of COVID-19 in academics institutions and workplaces and strengthening the health surveillance system at institute level. Whatever may be the advice communicated from the institute based on the system generated decision, every individual has to follow the advisory generated through “Aarogya Setu.” App and in case of any doubt or confusion decision of the local government health authority is final"
   ]
  },
  {
   "cell_type": "markdown",
   "metadata": {},
   "source": [
    "## <font color='blue'> Institute Name: RLI</font>"
   ]
  },
  {
   "cell_type": "markdown",
   "metadata": {},
   "source": [
    "## <font color='red'> Google Form for online submission available at: https://bit.ly/rlik-covid</font>"
   ]
  },
  {
   "cell_type": "code",
   "execution_count": 1,
   "metadata": {},
   "outputs": [],
   "source": [
    "# Hide all warnings \n",
    "import warnings\n",
    "warnings.filterwarnings('ignore')"
   ]
  },
  {
   "cell_type": "code",
   "execution_count": 2,
   "metadata": {},
   "outputs": [],
   "source": [
    "# Import Required Libraries\n",
    "import pandas as pd\n",
    "import numpy as np\n",
    "import seaborn as sns\n",
    "import matplotlib.pyplot as plt\n",
    "import gspread\n",
    "from oauth2client.service_account import ServiceAccountCredentials\n",
    "from pandas.io.json import json_normalize\n",
    "from datetime import date \n",
    "from datetime import datetime\n",
    "from datetime import timedelta\n",
    "import getpass\n",
    "%matplotlib inline"
   ]
  },
  {
   "cell_type": "code",
   "execution_count": 3,
   "metadata": {},
   "outputs": [
    {
     "name": "stdout",
     "output_type": "stream",
     "text": [
      "Please enter the path to secret credential josn file:········\n"
     ]
    }
   ],
   "source": [
    "## Connect to our Google spreadsheet service account\n",
    "## path = /Users/arka.doctor/Python_Code/covid-19-monitoring-298816-dd7230ad1ca6.json\n",
    "path_to_credentials_json = getpass.getpass(\"Please enter the path to secret credential josn file:\")\n",
    "scope = ['https://spreadsheets.google.com/feeds']\n",
    "credentials = ServiceAccountCredentials.from_json_keyfile_name(path_to_credentials_json, scope)\n",
    "gc = gspread.authorize(credentials)"
   ]
  },
  {
   "cell_type": "code",
   "execution_count": 4,
   "metadata": {},
   "outputs": [
    {
     "name": "stdout",
     "output_type": "stream",
     "text": [
      "Please enter the secret Google spreadsheetkey:········\n"
     ]
    }
   ],
   "source": [
    "# Accessing the Google spreadsheet by secret key value \n",
    "#spreadsheet_key = '1Os5r6JKH848-8wiw2q6f1X4QIzpmQYhP_otAymsKPJM'\n",
    "spreadsheet_key = getpass.getpass(\"Please enter the secret Google spreadsheetkey:\")\n",
    "book = gc.open_by_key(spreadsheet_key)"
   ]
  },
  {
   "cell_type": "code",
   "execution_count": 5,
   "metadata": {},
   "outputs": [],
   "source": [
    "# Importing specific worksheet and convert it into a dataframe\n",
    "worksheet = book.worksheet(\"covid19\")\n",
    "table = worksheet.get_all_values()\n",
    "df = pd.DataFrame(table[1:], columns=table[0])"
   ]
  },
  {
   "cell_type": "code",
   "execution_count": 6,
   "metadata": {},
   "outputs": [
    {
     "data": {
      "text/plain": [
       "['Timestamp',\n",
       " 'Score',\n",
       " 'Name',\n",
       " 'Roll Number',\n",
       " 'Date',\n",
       " 'Body Temperature in Fahrenheit Only (Please enter value only)',\n",
       " 'Are you experiencing any of the following symptoms (Please Tick appropriately): ',\n",
       " 'Have you ever had any of the following (Please Tick appropriately): ',\n",
       " 'Are you residing or coming from “Containment Zone” as specified by the Local Authority',\n",
       " 'Have you traveled anywhere internationally in the last 28-45 days',\n",
       " 'Have you recently interacted or lived with someone who has tested positive for COVID-19',\n",
       " 'Please mention Colour Status as on the “Aarogya Setu” app after the self-assessment',\n",
       " 'I am following and will follow all the guidelines by the Ministry of Health and Family Welfare, Govt. of India / The Ministry of Home Affairs, Govt. of India / The Respective State Governments / Respective Local Administrative and Health Authority / Board of Technical Education, UP related to Preventive measure to be taken to contain the spread of Novel Corona Virus (COVID-19)',\n",
       " 'Informed Consent & Declaration: I am submitting this form VOLUNTARILY and No Objection to use the data for Academic Purpose',\n",
       " 'Age',\n",
       " 'Gender']"
      ]
     },
     "execution_count": 6,
     "metadata": {},
     "output_type": "execute_result"
    }
   ],
   "source": [
    "# Get the column names in the dataframe\n",
    "list(df.columns)"
   ]
  },
  {
   "cell_type": "markdown",
   "metadata": {},
   "source": [
    "# <font color='orange'> Preprocessing followed by Analysis and Decision Making and Communication </font>"
   ]
  },
  {
   "cell_type": "code",
   "execution_count": 7,
   "metadata": {},
   "outputs": [],
   "source": [
    "#Renaming column for better representation\n",
    "df.columns = ['datetime','score','name','roll','date',\n",
    "             'temperature','symptopms','comorbidity','containment_zone','international_travel',\n",
    "             'recent_contact','Aarogyasetu_status','obey_rules','voluntary','age','gender']\n",
    "# drop the redundant score and date column\n",
    "df=df.drop(['score','date'],axis=1)"
   ]
  },
  {
   "cell_type": "code",
   "execution_count": 8,
   "metadata": {},
   "outputs": [],
   "source": [
    "# converting datetime to date only and rename the datetime column to date\n",
    "df['datetime'] = pd.to_datetime(df.datetime, format='%m/%d/%Y %H:%M:%S')\n",
    "df['datetime'] = df['datetime'].dt.strftime(\"%Y-%m-%d\")\n",
    "df.rename(columns={'datetime':'date'},inplace=True)"
   ]
  },
  {
   "cell_type": "code",
   "execution_count": 9,
   "metadata": {
    "scrolled": false
   },
   "outputs": [],
   "source": [
    "# Displayning the entire dataframe\n",
    "from IPython.core.display import HTML\n",
    "#display(HTML(df.to_html()))"
   ]
  },
  {
   "cell_type": "markdown",
   "metadata": {},
   "source": [
    "## Number of submission and non-submission today till Now"
   ]
  },
  {
   "cell_type": "code",
   "execution_count": 10,
   "metadata": {},
   "outputs": [
    {
     "data": {
      "text/html": [
       "<div style = 'background-color: #504e4e; padding: 30px '><span style='color: orange; font-size:20px;'> Current Date and Time in YYYY-MM-DD & HH-MM-SS format : 2021-02-26; 14:02:56</span></div>"
      ],
      "text/plain": [
       "<IPython.core.display.HTML object>"
      ]
     },
     "metadata": {},
     "output_type": "display_data"
    },
    {
     "data": {
      "text/html": [
       "<div style = 'background-color: #504e4e; padding: 30px '><span style='color: #fff; font-size:30px;'> Total Number of students in the Institute: 50</span></div>"
      ],
      "text/plain": [
       "<IPython.core.display.HTML object>"
      ]
     },
     "metadata": {},
     "output_type": "display_data"
    }
   ],
   "source": [
    "now = datetime.now()\n",
    "dt_string = now.strftime(\"%Y-%m-%d; %H:%M:%S\")\n",
    "\n",
    "display(HTML(\"<div style = 'background-color: #504e4e; padding: 30px '>\" +\n",
    "             \"<span style='color: orange; font-size:20px;'> Current Date and Time in YYYY-MM-DD & HH-MM-SS format : \" + str(dt_string) + \"</span>\" +\n",
    "             \"</div>\")\n",
    "       )\n",
    "\n",
    "display(HTML(\"<div style = 'background-color: #504e4e; padding: 30px '>\" +\n",
    "             \"<span style='color: #fff; font-size:30px;'> Total Number of students in the Institute: \" + str(50) + \"</span>\" +\n",
    "             \"</div>\")\n",
    "       )"
   ]
  },
  {
   "cell_type": "code",
   "execution_count": 11,
   "metadata": {},
   "outputs": [
    {
     "data": {
      "text/html": [
       "<div style = 'background-color: #504e4e; padding: 30px '><span style='color: #66ff00; font-size:30px;'> Total Number of students submitted online form today till now: 36</span></div>"
      ],
      "text/plain": [
       "<IPython.core.display.HTML object>"
      ]
     },
     "metadata": {},
     "output_type": "display_data"
    },
    {
     "data": {
      "text/html": [
       "<div style = 'background-color: #504e4e; padding: 30px '><span style='color: red; font-size:30px;'> Total Number of students yet to submit online form today: 14</span></div>"
      ],
      "text/plain": [
       "<IPython.core.display.HTML object>"
      ]
     },
     "metadata": {},
     "output_type": "display_data"
    }
   ],
   "source": [
    "today = date.today()\n",
    "today_str = today.strftime(\"%Y-%m-%d\")\n",
    "today_submission=df.loc[df['date']==today_str,'roll'].nunique()\n",
    "\n",
    "yet_to_submit = 50 - today_submission\n",
    "\n",
    "display(HTML(\"<div style = 'background-color: #504e4e; padding: 30px '>\" +\n",
    "             \"<span style='color: #66ff00; font-size:30px;'> Total Number of students submitted online form today till now: \"  + str(today_submission) +\"</span>\" +\n",
    "             \"</div>\")\n",
    "       )\n",
    "display(HTML(\"<div style = 'background-color: #504e4e; padding: 30px '>\" +\n",
    "             \"<span style='color: red; font-size:30px;'> Total Number of students yet to submit online form today: \" + str(yet_to_submit) + \"</span>\"+\n",
    "             \"</div>\")\n",
    "       )"
   ]
  },
  {
   "cell_type": "markdown",
   "metadata": {},
   "source": [
    "## <font color='violet'>Find the roll number of the students yet to submit online from today</font>"
   ]
  },
  {
   "cell_type": "code",
   "execution_count": 12,
   "metadata": {},
   "outputs": [
    {
     "data": {
      "text/html": [
       "<div style = 'background-color: #504e4e; padding: 30px '><span style='color: yellow; font-size:30px;'> Roll number of the students yet to submit online form today: [7, 11, 16, 21, 25, 26, 28, 32, 35, 37, 38, 39, 49, 50]</span></div>"
      ],
      "text/plain": [
       "<IPython.core.display.HTML object>"
      ]
     },
     "metadata": {},
     "output_type": "display_data"
    }
   ],
   "source": [
    "today = date.today()\n",
    "today_str = today.strftime(\"%Y-%m-%d\")\n",
    "df_today = df.loc[df['date']==today_str]\n",
    "yesterday = today - timedelta(days = 1)\n",
    "yesterday_str = yesterday.strftime(\"%Y-%m-%d\")\n",
    "daybeforeyesterday = today - timedelta(days = 2)\n",
    "daybeforeyesterday_str = daybeforeyesterday.strftime(\"%Y-%m-%d\")\n",
    "#remove any duplicate if any keeping the last one assuming the last one is the most accurate entry\n",
    "df_today_clean = df_today.drop_duplicates(subset='roll', keep=\"last\")\n",
    "submission=df_today_clean.loc[df_today_clean['date'] == today_str, 'roll'].values.flatten().tolist()\n",
    "submission_list = [int(i) for i in submission]\n",
    "# No Response on specific date\n",
    "def find_missing(lst): \n",
    "    return [x for x in range(1,51)  \n",
    "                               if x not in lst] \n",
    "missing = find_missing(submission_list)\n",
    "display(HTML(\"<div style = 'background-color: #504e4e; padding: 30px '>\" +\n",
    "             \"<span style='color: yellow; font-size:30px;'> Roll number of the students yet to submit online form today: \" + str(missing) + \"</span>\"+\n",
    "             \"</div>\")\n",
    "       )"
   ]
  },
  {
   "cell_type": "markdown",
   "metadata": {},
   "source": [
    "### <font color='blue'> Email to the non submitted students to request them to submit the health monitoring Google Form </font>"
   ]
  },
  {
   "cell_type": "code",
   "execution_count": 45,
   "metadata": {},
   "outputs": [
    {
     "name": "stdout",
     "output_type": "stream",
     "text": [
      "Please enter the path to email database of the students:········\n"
     ]
    }
   ],
   "source": [
    "# load the database of the email id of the students\n",
    "# path= /Volumes/arka/Dropbox/PhD_Arka/COVID_DASHBOARD/email_students.csv\n",
    "path_to_email_db = getpass.getpass(\"Please enter the path to email database of the students:\")\n",
    "df_email = pd.read_csv(path_to_email_db)"
   ]
  },
  {
   "cell_type": "code",
   "execution_count": 65,
   "metadata": {},
   "outputs": [],
   "source": [
    "# Converting the email column to list and make a list of non submission \n",
    "email_all = list(df_email['email'])\n",
    "email_nonsubmission = []\n",
    "for i in missing:\n",
    "    email_nonsubmission.append(email_all[i-1])"
   ]
  },
  {
   "cell_type": "code",
   "execution_count": 13,
   "metadata": {},
   "outputs": [],
   "source": [
    "#email_nonsubmission"
   ]
  },
  {
   "cell_type": "code",
   "execution_count": 71,
   "metadata": {},
   "outputs": [
    {
     "name": "stdout",
     "output_type": "stream",
     "text": [
      "········\n"
     ]
    }
   ],
   "source": [
    "# Python code to illustrate Sending mail \n",
    "# to multiple users \n",
    "# from your Gmail account \n",
    "# Allow less secure app access turn on https://myaccount.google.com/lesssecureapps?pli=1&rapt=AEjHL4PGmDdFtfAPbSWMTjN4-wg8Rs09vA115IiKlR2_E_2bOXO3Xge0rCcFdDqgY4VSguEGmAj_98auRi624-Fu-OdhdEBKBg\n",
    "import smtplib\n",
    "import getpass\n",
    "Gmail = getpass.getpass(\"Please enter the G-mail ID:\")\n",
    "p = getpass.getpass(\"Please enter the G-mail password:\")\n",
    "\n",
    "for dest in email_nonsubmission: \n",
    "    s = smtplib.SMTP('smtp.gmail.com', 587) \n",
    "    s.starttls() \n",
    "    s.login(Gmail, p) \n",
    "    message = \"Message form RLI-Authority, Please submit the Health Monitoring form\\nhttps://bit.ly/rlik-covid\"\n",
    "    s.sendmail(Gmail, dest, message) \n",
    "    s.quit() "
   ]
  },
  {
   "cell_type": "code",
   "execution_count": 13,
   "metadata": {},
   "outputs": [],
   "source": [
    "### During Pretesting phase, it has also been identified that some respondent choose 'None of the Above' along with other options in symptoms and co-morbidity question\n",
    "### To overcome this issue, 'None of the Above' will be ignored in that case\n",
    "df_today_clean['temperature'] = df_today_clean['temperature'].astype(str).str.extract('([-+]?\\d*\\.\\d+|\\d+)').astype(float)\n",
    "filter_method_temp = lambda x: 'Fever' if x >= 100 else 'Warning' if (x < 100 and x >= 98.9) else 'Normal'\n",
    "filter_method_symptoms = lambda x: 'None of the Above' if x == 'None of the Above' else x.rstrip(', None of the Above')\n",
    "filter_method_comorbidity = lambda x: 'None of the Above' if x == 'None of the Above' else x.rstrip(', None of the Above')\n",
    "df_today_clean['temperature'] = df_today_clean['temperature'].apply(filter_method_temp)\n",
    "df_today_clean['symptopms'] = df_today_clean['symptopms'].apply(filter_method_symptoms)\n",
    "df_today_clean['comorbidity'] = df_today_clean['comorbidity'].apply(filter_method_comorbidity)"
   ]
  },
  {
   "cell_type": "code",
   "execution_count": 41,
   "metadata": {},
   "outputs": [
    {
     "data": {
      "text/html": [
       "<div style = 'background-color: #504e4e; padding: 20px '><span style='color:red; font-size:20px;'> Risk Factor: Temperature more than 98.9</span></div>"
      ],
      "text/plain": [
       "<IPython.core.display.HTML object>"
      ]
     },
     "metadata": {},
     "output_type": "display_data"
    },
    {
     "data": {
      "text/html": [
       "<div style = 'background-color: #504e4e; padding: 20px '><span style='color:red; font-size:20px;'> Risk Factor: Any one or more symptoms of COVID-19 as per Google Form</span></div>"
      ],
      "text/plain": [
       "<IPython.core.display.HTML object>"
      ]
     },
     "metadata": {},
     "output_type": "display_data"
    },
    {
     "data": {
      "text/html": [
       "<div style = 'background-color: #504e4e; padding: 20px '><span style='color:red; font-size:20px;'> Risk Factor: Any one or more Comorbidity as per Google Form</span></div>"
      ],
      "text/plain": [
       "<IPython.core.display.HTML object>"
      ]
     },
     "metadata": {},
     "output_type": "display_data"
    },
    {
     "data": {
      "text/html": [
       "<div style = 'background-color: #504e4e; padding: 20px '><span style='color:red; font-size:20px;'> Risk Factor: Coming from or residing at a CONTAINMENT ZONE</span></div>"
      ],
      "text/plain": [
       "<IPython.core.display.HTML object>"
      ]
     },
     "metadata": {},
     "output_type": "display_data"
    },
    {
     "data": {
      "text/html": [
       "<div style = 'background-color: #504e4e; padding: 20px '><span style='color:red; font-size:20px;'> Risk Factor: History of International Travel in the last 28-45 days</span></div>"
      ],
      "text/plain": [
       "<IPython.core.display.HTML object>"
      ]
     },
     "metadata": {},
     "output_type": "display_data"
    },
    {
     "data": {
      "text/html": [
       "<div style = 'background-color: #504e4e; padding: 20px '><span style='color:red; font-size:20px;'> Risk Factor: Recently interacted or lived with someone who has tested positive for COVID-19</span></div>"
      ],
      "text/plain": [
       "<IPython.core.display.HTML object>"
      ]
     },
     "metadata": {},
     "output_type": "display_data"
    }
   ],
   "source": [
    "display(HTML(\"<div style = 'background-color: #504e4e; padding: 20px '>\" +\n",
    "             \"<span style='color:red; font-size:20px;'> Risk Factor: Temperature more than 98.9\" + \"</span>\"+\n",
    "             \"</div>\")\n",
    "       )\n",
    "display(HTML(\"<div style = 'background-color: #504e4e; padding: 20px '>\" +\n",
    "             \"<span style='color:red; font-size:20px;'> Risk Factor: Any one or more symptoms of COVID-19 as per Google Form\" + \"</span>\"+\n",
    "             \"</div>\")\n",
    "       )\n",
    "display(HTML(\"<div style = 'background-color: #504e4e; padding: 20px '>\" +\n",
    "             \"<span style='color:red; font-size:20px;'> Risk Factor: Any one or more Comorbidity as per Google Form\" + \"</span>\"+\n",
    "             \"</div>\")\n",
    "       )\n",
    "display(HTML(\"<div style = 'background-color: #504e4e; padding: 20px '>\" +\n",
    "             \"<span style='color:red; font-size:20px;'> Risk Factor: Coming from or residing at a CONTAINMENT ZONE\" + \"</span>\"+\n",
    "             \"</div>\")\n",
    "       )\n",
    "display(HTML(\"<div style = 'background-color: #504e4e; padding: 20px '>\" +\n",
    "             \"<span style='color:red; font-size:20px;'> Risk Factor: History of International Travel in the last 28-45 days\" + \"</span>\"+\n",
    "             \"</div>\")\n",
    "       )\n",
    "display(HTML(\"<div style = 'background-color: #504e4e; padding: 20px '>\" +\n",
    "             \"<span style='color:red; font-size:20px;'> Risk Factor: Recently interacted or lived with someone who has tested positive for COVID-19\" + \"</span>\"+\n",
    "             \"</div>\")\n",
    "       )"
   ]
  },
  {
   "cell_type": "code",
   "execution_count": 46,
   "metadata": {},
   "outputs": [
    {
     "data": {
      "text/html": [
       "<div style = 'background-color:red; padding: 30px'><span style='color:black; font-size:20px;'> NB: High Risk Individuals i.e presence of if any one of the above mentioned risk factors and/or the srudents with Aarogya Setu app status NOT GREEN are requested to consult with a Registered Medical Practitioner or call National Helpline Number: +91-11-23978046/ Toll Free Number: 1075 before attending the Institute. If Registered Medical Practitioner or authority from National helpline advice you for staying at home or quarantine or isolation, please inform local health authority and institute authority and Course Coordinator immediately.</span></div>"
      ],
      "text/plain": [
       "<IPython.core.display.HTML object>"
      ]
     },
     "metadata": {},
     "output_type": "display_data"
    }
   ],
   "source": [
    "display(HTML(\"<div style = 'background-color:red; padding: 30px'>\" + \n",
    "             \"<span style='color:black; font-size:20px;'> NB: High Risk Individuals i.e presence of if any one of the above mentioned risk factors and/or the srudents with Aarogya Setu app status NOT GREEN are requested to consult with a Registered Medical Practitioner or call National Helpline Number: +91-11-23978046/ Toll Free Number: 1075 before attending the Institute. If Registered Medical Practitioner or authority from National helpline advice you for staying at home or quarantine or isolation, please inform local health authority and institute authority and Course Coordinator immediately.</span>\"+\n",
    "             \"</div>\")\n",
    "       )"
   ]
  },
  {
   "cell_type": "code",
   "execution_count": 141,
   "metadata": {},
   "outputs": [
    {
     "data": {
      "text/html": [
       "<div style = 'background-color: #504e4e; padding: 30px '><span style='color: #66ff00; font-size:30px;'> Total number of the students who can attend the institute today: 36</span></div>"
      ],
      "text/plain": [
       "<IPython.core.display.HTML object>"
      ]
     },
     "metadata": {},
     "output_type": "display_data"
    },
    {
     "data": {
      "text/html": [
       "<div style = 'background-color: #504e4e; padding: 30px '><span style='color: #66ff00; font-size:30px;'> Roll number of the students who can attend the institute today: [1, 2, 3, 4, 5, 6, 8, 9, 10, 12, 13, 14, 15, 17, 18, 19, 20, 22, 23, 24, 27, 29, 30, 31, 33, 34, 36, 40, 41, 42, 43, 44, 45, 46, 47, 48]</span></div>"
      ],
      "text/plain": [
       "<IPython.core.display.HTML object>"
      ]
     },
     "metadata": {},
     "output_type": "display_data"
    }
   ],
   "source": [
    "# List of Roll Number of Students who can attend the Institute or Workplace\n",
    "can_attend = df_today_clean.loc[(df_today_clean['temperature'] == \"Normal\") &\n",
    "                    (df_today_clean['symptopms'] == \"None of the Above\") &\n",
    "                    (df_today_clean['comorbidity'] == \"None of the Above\") & \n",
    "                    (df_today_clean['containment_zone'] == \"No\") & \n",
    "                    (df_today_clean['international_travel'] == \"No\") & \n",
    "                    (df_today_clean['recent_contact'] == \"No\") &\n",
    "                    (df_today_clean['Aarogyasetu_status'] == \"Green\")]\n",
    "can_attend['roll'] = can_attend['roll'].astype(int)\n",
    "list_can_attend = list(can_attend['roll'])\n",
    "list_can_attend.sort()\n",
    "\n",
    "display(HTML(\"<div style = 'background-color: #504e4e; padding: 30px '>\" +\n",
    "             \"<span style='color: #66ff00; font-size:30px;'> Total number of the students who can attend the institute today: \" + str(len(list_can_attend)) + \"</span>\"+\n",
    "             \"</div>\"))\n",
    "\n",
    "\n",
    "display(HTML(\"<div style = 'background-color: #504e4e; padding: 30px '>\" +\n",
    "             \"<span style='color: #66ff00; font-size:30px;'> Roll number of the students who can attend the institute today: \" + str(list_can_attend) + \"</span>\"+\n",
    "             \"</div>\"))"
   ]
  },
  {
   "cell_type": "code",
   "execution_count": 19,
   "metadata": {},
   "outputs": [
    {
     "data": {
      "text/html": [
       "<div style = 'background-color: #504e4e; padding: 30px '><span style='color: red; font-size:25px;'> Total number of the students who can not attend the institute today: 0</span></div>"
      ],
      "text/plain": [
       "<IPython.core.display.HTML object>"
      ]
     },
     "metadata": {},
     "output_type": "display_data"
    },
    {
     "data": {
      "text/html": [
       "<div style = 'background-color: #504e4e; padding: 30px '><span style='color: red; font-size:30px;'> Roll number of the students who can not attend the institute today: []</span></div>"
      ],
      "text/plain": [
       "<IPython.core.display.HTML object>"
      ]
     },
     "metadata": {},
     "output_type": "display_data"
    }
   ],
   "source": [
    "# List of Roll Number of Students who will not be allowed to attend the Institute or Workplace\n",
    "can_not_attend = df_today_clean.loc[(df_today_clean['temperature'] != \"Normal\") |\n",
    "                    (df_today_clean['symptopms'] != \"None of the Above\") |\n",
    "                    (df_today_clean['Aarogyasetu_status'] != \"Green\") | \n",
    "                    (df_today_clean['containment_zone'] == \"Yes\") | \n",
    "                    (df_today_clean['international_travel'] == \"Yes\") | \n",
    "                    (df_today_clean['recent_contact'] == \"Yes\")]\n",
    "can_not_attend['roll'] = can_not_attend['roll'].astype(int)\n",
    "list_can_not_attend = list(can_not_attend['roll'])\n",
    "list_can_not_attend.sort()\n",
    "\n",
    "display(HTML(\"<div style = 'background-color: #504e4e; padding: 30px '>\" +\n",
    "             \"<span style='color: red; font-size:25px;'> Total number of the students who can not attend the institute today: \" + str(len(list_can_not_attend)) + \"</span>\"+\n",
    "             \"</div>\"))\n",
    "\n",
    "\n",
    "display(HTML(\"<div style = 'background-color: #504e4e; padding: 30px '>\" +\n",
    "             \"<span style='color: red; font-size:30px;'> Roll number of the students who can not attend the institute today: \" + str(list_can_not_attend) + \"</span>\"+\n",
    "             \"</div>\"))"
   ]
  },
  {
   "cell_type": "code",
   "execution_count": null,
   "metadata": {},
   "outputs": [],
   "source": [
    "## Converting the email column to list and make a list of students who will not be allowed to attend the institute\n",
    "email_all = list(df_email['email'])\n",
    "email_can_not_attend = []\n",
    "for i in list_can_not_attend:\n",
    "    email_can_not_attend.append(email_all[i-1])"
   ]
  },
  {
   "cell_type": "code",
   "execution_count": null,
   "metadata": {},
   "outputs": [],
   "source": [
    "# Send email with advisory to the \"At Risk\" students\n",
    "import smtplib\n",
    "import getpass\n",
    "Gmail = getpass.getpass(\"Please enter the G-mail ID:\")\n",
    "p = getpass.getpass(\"Please enter the G-mail password:\")\n",
    "\n",
    "for dest in email_can_not_attend: \n",
    "    s = smtplib.SMTP('smtp.gmail.com', 587) \n",
    "    s.starttls() \n",
    "    s.login(Gmail, p) \n",
    "    message = \"Message form RLI-Authority, based on submitted information, your are not within the normal or low risk group. You will not be allowed to attend the Institute or Workplace. Please stay at home, Contact nearest health authority immediately, attend online classes or work from home\"\n",
    "    s.sendmail(Gmail, dest, message) \n",
    "    s.quit() "
   ]
  },
  {
   "cell_type": "code",
   "execution_count": 25,
   "metadata": {},
   "outputs": [
    {
     "data": {
      "text/html": [
       "<div style = 'background-color: #504e4e; padding: 30px '><span style='color: yellow; font-size:30px;'> Total number of the students who may attend the institute today: 0</span></div>"
      ],
      "text/plain": [
       "<IPython.core.display.HTML object>"
      ]
     },
     "metadata": {},
     "output_type": "display_data"
    },
    {
     "data": {
      "text/html": [
       "<div style = 'background-color: #504e4e; padding: 30px '><span style='color: yellow; font-size:30px;'> Roll number of the students who may attend the institute today: []</span></div>"
      ],
      "text/plain": [
       "<IPython.core.display.HTML object>"
      ]
     },
     "metadata": {},
     "output_type": "display_data"
    }
   ],
   "source": [
    "# List of Roll Number of Students who may attend the Institute or Workplace but with extra precaution after consultation with a physician or local health authority\n",
    "may_attend = df_today_clean.loc[(df_today_clean['temperature'] == \"Normal\") &\n",
    "                    (df_today_clean['symptopms'] == \"None of the Above\") &\n",
    "                    (df_today_clean['comorbidity'] != \"None of the Above\") & \n",
    "                    (df_today_clean['containment_zone'] == \"No\") & \n",
    "                    (df_today_clean['international_travel'] == \"No\") & \n",
    "                    (df_today_clean['recent_contact'] == \"No\") &\n",
    "                    (df_today_clean['Aarogyasetu_status'] == \"Green\")]\n",
    "may_attend['roll'] = may_attend['roll'].astype(int)\n",
    "list_may_attend = list(may_attend['roll'])\n",
    "list_may_attend.sort()\n",
    "display(HTML(\"<div style = 'background-color: #504e4e; padding: 30px '>\" +\n",
    "             \"<span style='color: yellow; font-size:30px;'> Total number of the students who may attend the institute today: \" + str(len(list_may_attend)) + \"</span>\"+\n",
    "             \"</div>\"))\n",
    "\n",
    "\n",
    "display(HTML(\"<div style = 'background-color: #504e4e; padding: 30px '>\" +\n",
    "             \"<span style='color: yellow; font-size:30px;'> Roll number of the students who may attend the institute today: \" + str(list_may_attend) + \"</span>\"+\n",
    "             \"</div>\"))"
   ]
  },
  {
   "cell_type": "code",
   "execution_count": null,
   "metadata": {},
   "outputs": [],
   "source": [
    "## Converting the email column to list and make a list of students who may be allowed to attend the institute\n",
    "email_all = list(df_email['email'])\n",
    "email_may_attend = []\n",
    "for i in list_may_attend:\n",
    "    email_may_attend.append(email_all[i-1])"
   ]
  },
  {
   "cell_type": "code",
   "execution_count": null,
   "metadata": {},
   "outputs": [],
   "source": [
    "# Send email with advisory to the students with comorbidity\n",
    "import smtplib\n",
    "import getpass\n",
    "Gmail = getpass.getpass(\"Please enter the G-mail ID:\")\n",
    "p = getpass.getpass(\"Please enter the G-mail password:\")\n",
    "\n",
    "for dest in email_may_attend: \n",
    "    s = smtplib.SMTP('smtp.gmail.com', 587) \n",
    "    s.starttls() \n",
    "    s.login(Gmail, p) \n",
    "    message = \"Message form RLI-Authority, based on submitted information, your are suffering form at least one comorbid condition. You may be allowed to attend the Institute or Workplace with extra precaution. Please consult with your physician or local health authority before attending the institute or workplace. for any health related issue, please contact nearest health authority immediately. You may prefer to attend online classes or work from home\"\n",
    "    s.sendmail(Gmail, dest, message) \n",
    "    s.quit() "
   ]
  },
  {
   "cell_type": "markdown",
   "metadata": {},
   "source": [
    "## <font color='magenta'>Number of Students suffering from different COVID Related Symptoms TODAY</font>\n",
    "### <font color='red'>Legend</font>\n",
    "| Temperature | Symptoms | Co-morbidity |\n",
    "| --- | --- | --- |\n",
    "| Fever when temperature >=100 | Cough | Diabetes |\n",
    "| Warning when temperature >= 98.9 and < 100 | Fever | Hypertension\n",
    "| Normal when temperature < 98.8 | Difficulty in Breathing | Lung Disease\n",
    "| | Loss of sense of smell and taste | Heart Disease\n",
    "| | None of the Above | Kidney Disease\n",
    "| | | None of the Above"
   ]
  },
  {
   "cell_type": "code",
   "execution_count": 27,
   "metadata": {},
   "outputs": [
    {
     "data": {
      "text/plain": [
       "Normal    36\n",
       "Name: temperature, dtype: int64"
      ]
     },
     "execution_count": 27,
     "metadata": {},
     "output_type": "execute_result"
    }
   ],
   "source": [
    "# Status Related to Temperature and Roll number of the students with Temperature not normal\n",
    "df_today_clean['temperature'].value_counts()"
   ]
  },
  {
   "cell_type": "code",
   "execution_count": 28,
   "metadata": {},
   "outputs": [
    {
     "data": {
      "text/plain": [
       "[]"
      ]
     },
     "execution_count": 28,
     "metadata": {},
     "output_type": "execute_result"
    }
   ],
   "source": [
    "# List of  Roll number of the students with Temperature not normal\n",
    "not_normal_temp = df_today_clean.loc[df_today_clean['temperature'] != \"Normal\"]\n",
    "not_normal_temp['roll'] = not_normal_temp['roll'].astype(int)\n",
    "list_not_normal_temp = list(not_normal_temp['roll'])\n",
    "list_not_normal_temp"
   ]
  },
  {
   "cell_type": "code",
   "execution_count": 29,
   "metadata": {},
   "outputs": [
    {
     "data": {
      "text/plain": [
       "None of the Above    36\n",
       "Name: symptopms, dtype: int64"
      ]
     },
     "execution_count": 29,
     "metadata": {},
     "output_type": "execute_result"
    }
   ],
   "source": [
    "# Status related to COVID-19 symptoms\n",
    "df_today_clean['symptopms'].value_counts()"
   ]
  },
  {
   "cell_type": "code",
   "execution_count": 30,
   "metadata": {},
   "outputs": [
    {
     "data": {
      "text/plain": [
       "[]"
      ]
     },
     "execution_count": 30,
     "metadata": {},
     "output_type": "execute_result"
    }
   ],
   "source": [
    "# List of  Roll number of the students with any one symptom associated with COVID-19\n",
    "any_one_symp = df_today_clean.loc[df_today_clean['symptopms'] != \"None of the Above\"]\n",
    "any_one_symp['roll'] = any_one_symp['roll'].astype(int)\n",
    "list_any_one_symp = list(any_one_symp['roll'])\n",
    "list_any_one_symp"
   ]
  },
  {
   "cell_type": "code",
   "execution_count": 31,
   "metadata": {},
   "outputs": [
    {
     "data": {
      "text/plain": [
       "None of the Above    36\n",
       "Name: comorbidity, dtype: int64"
      ]
     },
     "execution_count": 31,
     "metadata": {},
     "output_type": "execute_result"
    }
   ],
   "source": [
    "# Status of Comorbidity\n",
    "df_today_clean['comorbidity'].value_counts()"
   ]
  },
  {
   "cell_type": "code",
   "execution_count": 32,
   "metadata": {},
   "outputs": [
    {
     "data": {
      "text/plain": [
       "[]"
      ]
     },
     "execution_count": 32,
     "metadata": {},
     "output_type": "execute_result"
    }
   ],
   "source": [
    "# List of  Roll number of the students with any one comorbidity\n",
    "any_one_comorbidity = df_today_clean.loc[df_today_clean['comorbidity'] != \"None of the Above\"]\n",
    "any_one_comorbidity['roll'] = any_one_comorbidity['roll'].astype(int)\n",
    "list_any_one_comorbidity = list(any_one_comorbidity['roll'])\n",
    "list_any_one_comorbidity"
   ]
  },
  {
   "cell_type": "code",
   "execution_count": 33,
   "metadata": {},
   "outputs": [
    {
     "data": {
      "image/png": "[encoded data removed]",
      "text/plain": [
       "<Figure size 1080x360 with 3 Axes>"
      ]
     },
     "metadata": {
      "needs_background": "light"
     },
     "output_type": "display_data"
    }
   ],
   "source": [
    "fig, ax =plt.subplots(1,3,figsize=(15,5))\n",
    "sns.countplot(x='temperature',data=df_today_clean,ax=ax[0])\n",
    "sns.countplot(x='symptopms',data=df_today_clean,ax=ax[1] )\n",
    "sns.countplot(x='comorbidity',data=df_today_clean,ax=ax[2] )\n",
    "fig.tight_layout()\n",
    "fig.show()"
   ]
  },
  {
   "cell_type": "code",
   "execution_count": 42,
   "metadata": {},
   "outputs": [],
   "source": [
    "#df_today_clean"
   ]
  },
  {
   "cell_type": "markdown",
   "metadata": {},
   "source": [
    "## <font color='blue'>Number of Students with Social History Related to COVID-19</font>\n",
    "### <font color='red'>Legend</font>\n",
    "| Coming from Containment Zone | History of International Travel in the last 28-45 days | Recently interacted or lived with someone who has tested positive for COVID-19 |\n",
    "| --- | --- | --- |\n",
    "| Yes | Yes | Yes |\n",
    "| No | No | No\n"
   ]
  },
  {
   "cell_type": "code",
   "execution_count": 34,
   "metadata": {},
   "outputs": [
    {
     "data": {
      "text/plain": [
       "No    36\n",
       "Name: containment_zone, dtype: int64"
      ]
     },
     "execution_count": 34,
     "metadata": {},
     "output_type": "execute_result"
    }
   ],
   "source": [
    "# Status of residing in  containment zone\n",
    "df_today_clean['containment_zone'].value_counts()"
   ]
  },
  {
   "cell_type": "code",
   "execution_count": 35,
   "metadata": {},
   "outputs": [
    {
     "data": {
      "text/plain": [
       "[]"
      ]
     },
     "execution_count": 35,
     "metadata": {},
     "output_type": "execute_result"
    }
   ],
   "source": [
    "# List of  Roll number of the students residing in  containment zone\n",
    "student_residing_containment_zone = df_today_clean.loc[df_today_clean['containment_zone'] == \"Yes\"]\n",
    "student_residing_containment_zone['roll'] = student_residing_containment_zone['roll'].astype(int)\n",
    "list_student_residing_containment_zone = list(student_residing_containment_zone['roll'])\n",
    "list_student_residing_containment_zone"
   ]
  },
  {
   "cell_type": "code",
   "execution_count": 36,
   "metadata": {},
   "outputs": [
    {
     "data": {
      "text/plain": [
       "No    36\n",
       "Name: international_travel, dtype: int64"
      ]
     },
     "execution_count": 36,
     "metadata": {},
     "output_type": "execute_result"
    }
   ],
   "source": [
    "# Status of International Travel in the last 28-45 days\n",
    "df_today_clean['international_travel'].value_counts()"
   ]
  },
  {
   "cell_type": "code",
   "execution_count": 37,
   "metadata": {},
   "outputs": [
    {
     "data": {
      "text/plain": [
       "[]"
      ]
     },
     "execution_count": 37,
     "metadata": {},
     "output_type": "execute_result"
    }
   ],
   "source": [
    "# List of  Roll number of the students with of International Travel in the last 28-45 days\n",
    "student_international_travel = df_today_clean.loc[df_today_clean['international_travel'] == \"Yes\"]\n",
    "student_international_travel['roll'] = student_international_travel['roll'].astype(int)\n",
    "list_student_international_travel = list(student_international_travel['roll'])\n",
    "list_student_international_travel"
   ]
  },
  {
   "cell_type": "code",
   "execution_count": 38,
   "metadata": {},
   "outputs": [
    {
     "data": {
      "text/plain": [
       "No    36\n",
       "Name: recent_contact, dtype: int64"
      ]
     },
     "execution_count": 38,
     "metadata": {},
     "output_type": "execute_result"
    }
   ],
   "source": [
    "# Recently interacted or lived with someone who has tested positive for COVID-19\n",
    "df_today_clean['recent_contact'].value_counts()"
   ]
  },
  {
   "cell_type": "code",
   "execution_count": 39,
   "metadata": {},
   "outputs": [
    {
     "data": {
      "text/plain": [
       "[]"
      ]
     },
     "execution_count": 39,
     "metadata": {},
     "output_type": "execute_result"
    }
   ],
   "source": [
    "# List of  Roll number of the students with of International Travel in the last 28-45 days\n",
    "student_recent_contact = df_today_clean.loc[df_today_clean['recent_contact'] == \"Yes\"]\n",
    "student_recent_contact['roll'] = student_recent_contact['roll'].astype(int)\n",
    "list_student_recent_contact = list(student_recent_contact['roll'])\n",
    "list_student_recent_contact"
   ]
  },
  {
   "cell_type": "code",
   "execution_count": 40,
   "metadata": {},
   "outputs": [
    {
     "data": {
      "image/png": "[encoded data removed]",
      "text/plain": [
       "<Figure size 1080x360 with 3 Axes>"
      ]
     },
     "metadata": {
      "needs_background": "light"
     },
     "output_type": "display_data"
    }
   ],
   "source": [
    "fig, ax =plt.subplots(1,3,figsize=(15,5))\n",
    "sns.countplot(x='containment_zone',data=df_today_clean,ax=ax[0])\n",
    "sns.countplot(x='international_travel',data=df_today_clean,ax=ax[1] )\n",
    "sns.countplot(x='recent_contact',data=df_today_clean,ax=ax[2] )\n",
    "fig.tight_layout()\n",
    "fig.show()"
   ]
  },
  {
   "cell_type": "markdown",
   "metadata": {},
   "source": [
    "## <font color='blue'>Colour Status as per Aarogya Setu App </font>"
   ]
  },
  {
   "cell_type": "code",
   "execution_count": 44,
   "metadata": {},
   "outputs": [],
   "source": [
    "today_green=df_today_clean.loc[df_today_clean['Aarogyasetu_status']=='Green','roll'].nunique()\n",
    "today_not_green=df_today_clean.loc[df_today_clean['Aarogyasetu_status']!='Green','roll'].nunique()"
   ]
  },
  {
   "cell_type": "code",
   "execution_count": 133,
   "metadata": {},
   "outputs": [],
   "source": [
    "# List of Roll Number of Students with \"Aarogya Setu\" app status Not Green\n",
    "not_green = df_today_clean.loc[(df_today_clean['Aarogyasetu_status'] != \"Green\")]\n",
    "not_green['roll'] = not_green['roll'].astype(int)\n",
    "list_not_green = list(not_green['roll'])\n",
    "list_not_green.sort()"
   ]
  },
  {
   "cell_type": "code",
   "execution_count": 134,
   "metadata": {},
   "outputs": [
    {
     "data": {
      "text/html": [
       "<div style = 'background-color: #504e4e; padding: 30px '><span style='color:#66ff00; font-size:30px;'> Number of Students with Aarogya Setu App Status GREEN: 36</span></div>"
      ],
      "text/plain": [
       "<IPython.core.display.HTML object>"
      ]
     },
     "metadata": {},
     "output_type": "display_data"
    },
    {
     "data": {
      "text/html": [
       "<div style = 'background-color: #504e4e; padding: 30px '><span style='color:pink; font-size:30px;'> Number of Students with Aarogya Setu App Status NOT GREEN: 0</span></div>"
      ],
      "text/plain": [
       "<IPython.core.display.HTML object>"
      ]
     },
     "metadata": {},
     "output_type": "display_data"
    },
    {
     "data": {
      "text/html": [
       "<div style = 'background-color: #504e4e; padding: 30px '><span style='color: yellow; font-size:30px;'> Roll number of the students with Aarogya Setu app status Not Green  today: []</span></div>"
      ],
      "text/plain": [
       "<IPython.core.display.HTML object>"
      ]
     },
     "metadata": {},
     "output_type": "display_data"
    }
   ],
   "source": [
    "display(HTML(\"<div style = 'background-color: #504e4e; padding: 30px '>\" +\n",
    "             \"<span style='color:#66ff00; font-size:30px;'> Number of Students with Aarogya Setu App Status GREEN: \" + str(today_green) + \"</span>\"+\n",
    "             \"</div>\")\n",
    "       )\n",
    "display(HTML(\"<div style = 'background-color: #504e4e; padding: 30px '>\" +\n",
    "             \"<span style='color:pink; font-size:30px;'> Number of Students with Aarogya Setu App Status NOT GREEN: \" + str(today_not_green) + \"</span>\"+\n",
    "             \"</div>\")\n",
    "       )\n",
    "display(HTML(\"<div style = 'background-color: #504e4e; padding: 30px '>\" +\n",
    "             \"<span style='color: yellow; font-size:30px;'> Roll number of the students with Aarogya Setu app status Not Green  today: \" + str(list_not_green) + \"</span>\"+\n",
    "             \"</div>\"))"
   ]
  },
  {
   "cell_type": "code",
   "execution_count": 47,
   "metadata": {},
   "outputs": [
    {
     "name": "stdout",
     "output_type": "stream",
     "text": [
      "Please enter the date in YYYY-MM-DD formate to get specific date entries: 2021-02-20\n"
     ]
    }
   ],
   "source": [
    "# Inspect any date from the dataframe\n",
    "specific_date = input(\"Please enter the date in YYYY-MM-DD formate to get specific date entries: \")\n",
    "df_specific_date = df.loc[df['date']== specific_date]\n",
    "df_specific_date_clean = df_specific_date.drop_duplicates(subset='roll', keep=\"last\")"
   ]
  },
  {
   "cell_type": "code",
   "execution_count": 3,
   "metadata": {},
   "outputs": [],
   "source": [
    "from IPython.core.display import HTML\n",
    "#display(HTML(df_specific_date_clean.to_html()))"
   ]
  },
  {
   "cell_type": "code",
   "execution_count": 83,
   "metadata": {},
   "outputs": [],
   "source": [
    "df_2 =  df[['date','roll']]\n",
    "df_2['roll'] = df_2['roll'].astype(int)\n",
    "df_3=df_2.drop(df_2[df_2.roll == 172].index) # Data Cleaning\n",
    "#df_4.groupby('date').roll.nunique()\n",
    "df_4=df_3.groupby('roll').date.nunique()\n",
    "df_5=df_4.reset_index()"
   ]
  },
  {
   "cell_type": "code",
   "execution_count": 92,
   "metadata": {},
   "outputs": [
    {
     "data": {
      "text/plain": [
       "Text(0, 0.5, 'Number of submission')"
      ]
     },
     "execution_count": 92,
     "metadata": {},
     "output_type": "execute_result"
    },
    {
     "data": {
      "image/png": "[encoded data removed]",
      "text/plain": [
       "<Figure size 1440x576 with 1 Axes>"
      ]
     },
     "metadata": {
      "needs_background": "light"
     },
     "output_type": "display_data"
    }
   ],
   "source": [
    "# Consistency of online form submission \n",
    "import datetime\n",
    "from datetime import date \n",
    "from datetime import timedelta\n",
    "today = date.today()\n",
    "today_str = today.strftime(\"%Y-%m-%d\")\n",
    "## Calculate Total Number of days between today and start day\n",
    "#today = datetime.date.today()\n",
    "startday = datetime.date(2020, 12, 16)\n",
    "diff = today - startday\n",
    "\n",
    "fig, ax = plt.subplots(figsize=(20,8))\n",
    "x = df_5.loc[:,'roll']\n",
    "y = df_5.loc[:,'date']\n",
    "def autolabel(rects):\n",
    "    for idx,rect in enumerate(bar_plot):\n",
    "        height = rect.get_height()\n",
    "        ax.text(rect.get_x() + rect.get_width()/2., 1.05*height,\n",
    "                bar_label[idx],\n",
    "                ha='center', va='bottom', rotation=90)\n",
    "col = []\n",
    "for val in y:\n",
    "    if val <= diff.days - diff.days * 0.15:\n",
    "        col.append('red') # Red-Non Submission Instances 15% of total days since start date\n",
    "    elif val <= diff.days - diff.days * 0.1:\n",
    "        col.append('yellow') # Yellow-Non Submission Instances 10% of total days since start date\n",
    "    else:\n",
    "        col.append('green')\n",
    "        \n",
    "plt.xticks(np.arange(min(x), max(x)+1, 1.0))\n",
    "plt.yticks(np.arange(0, max(y)+1, 5.0))\n",
    "plt.bar(x, y, color = col)\n",
    "ax.plot([0., 50], [diff.days - diff.days * 0.15, diff.days- diff.days * 0.15], \"r--\")\n",
    "ax.plot([0., 50], [diff.days - diff.days * 0.1, diff.days - diff.days * 0.1], \"y--\")\n",
    "plt.suptitle('Number of Non Submission of online COVID Monitoring Form till date by Roll Number, Start Date: 16-12-2020')\n",
    "plt.title(\"Please submit the form regularly\")\n",
    "plt.xlabel(\"Roll Number\")\n",
    "plt.ylabel(\"Number of submission\")\n",
    "#fig.savefig(\"non_submission.png\")"
   ]
  },
  {
   "cell_type": "code",
   "execution_count": 106,
   "metadata": {},
   "outputs": [
    {
     "name": "stdout",
     "output_type": "stream",
     "text": [
      "Please enter the roll number of the student in Two Digit Format: 26\n"
     ]
    }
   ],
   "source": [
    "# Want to see a data of a specific student for entire duration\n",
    "specific_student = input(\"Please enter the roll number of the student in Two Digit Format: \")\n",
    "df_specific_student = df.loc[df['roll'] == specific_student]"
   ]
  },
  {
   "cell_type": "code",
   "execution_count": 4,
   "metadata": {},
   "outputs": [],
   "source": [
    "from IPython.core.display import HTML\n",
    "#display(HTML(df_specific_student.to_html()))"
   ]
  },
  {
   "cell_type": "code",
   "execution_count": 85,
   "metadata": {},
   "outputs": [],
   "source": [
    "# Tracing for last 3 days\n",
    "today = date.today()\n",
    "today_str = today.strftime(\"%Y-%m-%d\")\n",
    "yesterday = today - timedelta(days = 1)\n",
    "yesterday_str = yesterday.strftime(\"%Y-%m-%d\")\n",
    "daybeforeyesterday = today - timedelta(days = 2)\n",
    "daybeforeyesterday_str = daybeforeyesterday.strftime(\"%Y-%m-%d\")\n",
    "df_today = df.loc[df['date']==today_str]\n",
    "df_yesterday = df.loc[df['date']==yesterday_str]\n",
    "df_daybeforeyesterday = df.loc[df['date']==daybeforeyesterday_str]"
   ]
  },
  {
   "cell_type": "code",
   "execution_count": 93,
   "metadata": {},
   "outputs": [],
   "source": [
    "df_last3days = df.loc[((df['date'] == today_str) | \n",
    "                              (df['date'] == yesterday_str) | \n",
    "                              (df['date'] == daybeforeyesterday_str))]"
   ]
  },
  {
   "cell_type": "code",
   "execution_count": 2,
   "metadata": {},
   "outputs": [],
   "source": [
    "#from IPython.core.display import HTML\n",
    "#display(HTML(df_last3days.to_html()))"
   ]
  },
  {
   "cell_type": "code",
   "execution_count": 96,
   "metadata": {},
   "outputs": [],
   "source": [
    "df_last3days['temperature'] = df_last3days['temperature'].astype(str).str.extract('([-+]?\\d*\\.\\d+|\\d+)').astype(float)\n",
    "filter_method_temp = lambda x: 'Fever' if x >= 100 else 'Warning' if (x < 100 and x >= 98.9) else 'Normal'\n",
    "filter_method_symptoms = lambda x: 'None of the Above' if x == 'None of the Above' else x.rstrip(', None of the Above')\n",
    "filter_method_comorbidity = lambda x: 'None of the Above' if x == 'None of the Above' else x.rstrip(', None of the Above')\n",
    "df_last3days['temperature'] = df_last3days['temperature'].apply(filter_method_temp)\n",
    "df_last3days['symptopms'] = df_last3days['symptopms'].apply(filter_method_symptoms)\n",
    "df_last3days['comorbidity'] = df_last3days['comorbidity'].apply(filter_method_comorbidity)"
   ]
  },
  {
   "cell_type": "code",
   "execution_count": 123,
   "metadata": {},
   "outputs": [],
   "source": [
    "# High risk based on any one positive risk criterion except comorbidity\n",
    "high_risk_last3days = df_last3days.loc[(df_last3days['temperature'] != \"Normal\") |\n",
    "                    (df_last3days['symptopms'] != \"None of the Above\") |\n",
    "                    (df_last3days['Aarogyasetu_status'] != \"Green\") | \n",
    "                    (df_last3days['containment_zone'] == \"Yes\") | \n",
    "                    (df_last3days['international_travel'] == \"Yes\") | \n",
    "                    (df_last3days['recent_contact'] == \"Yes\")]"
   ]
  },
  {
   "cell_type": "code",
   "execution_count": 5,
   "metadata": {},
   "outputs": [],
   "source": [
    "#high_risk_last3days"
   ]
  },
  {
   "cell_type": "code",
   "execution_count": 125,
   "metadata": {},
   "outputs": [],
   "source": [
    "high_risk_last3days_clean = high_risk_last3days.drop_duplicates(subset='roll', keep=\"last\")"
   ]
  },
  {
   "cell_type": "code",
   "execution_count": 126,
   "metadata": {},
   "outputs": [],
   "source": [
    "high_risk_last3days_clean['roll'] = high_risk_last3days_clean['roll'].astype(int)\n",
    "high_risk_last3days_clean = list(high_risk_last3days_clean['roll'])\n",
    "high_risk_last3days_clean.sort()"
   ]
  },
  {
   "cell_type": "code",
   "execution_count": 127,
   "metadata": {},
   "outputs": [
    {
     "data": {
      "text/plain": [
       "[31]"
      ]
     },
     "execution_count": 127,
     "metadata": {},
     "output_type": "execute_result"
    }
   ],
   "source": [
    "# Roll Number of High Risk \n",
    "high_risk_last3days_clean"
   ]
  },
  {
   "cell_type": "code",
   "execution_count": 103,
   "metadata": {},
   "outputs": [],
   "source": [
    "# Low risk based on comorbidity only\n",
    "low_risk_last3days = df_last3days.loc[(df_last3days['temperature'] == \"Normal\") &\n",
    "                    (df_last3days['symptopms'] == \"None of the Above\") &\n",
    "                    (df_last3days['comorbidity'] != \"None of the Above\") &                  \n",
    "                    (df_last3days['Aarogyasetu_status'] == \"Green\") & \n",
    "                    (df_last3days['containment_zone'] == \"No\") & \n",
    "                    (df_last3days['international_travel'] == \"No\") & \n",
    "                    (df_last3days['recent_contact'] == \"No\")]"
   ]
  },
  {
   "cell_type": "code",
   "execution_count": 1,
   "metadata": {},
   "outputs": [],
   "source": [
    "#low_risk_last3days"
   ]
  },
  {
   "cell_type": "code",
   "execution_count": 128,
   "metadata": {},
   "outputs": [],
   "source": [
    "low_risk_last3days_clean = low_risk_last3days.drop_duplicates(subset='roll', keep=\"last\")"
   ]
  },
  {
   "cell_type": "code",
   "execution_count": 129,
   "metadata": {},
   "outputs": [],
   "source": [
    "low_risk_last3days_clean['roll'] = low_risk_last3days_clean['roll'].astype(int)\n",
    "low_risk_last3days_clean = list(low_risk_last3days_clean['roll'])\n",
    "low_risk_last3days_clean.sort()"
   ]
  },
  {
   "cell_type": "code",
   "execution_count": 131,
   "metadata": {},
   "outputs": [
    {
     "data": {
      "text/plain": [
       "[26]"
      ]
     },
     "execution_count": 131,
     "metadata": {},
     "output_type": "execute_result"
    }
   ],
   "source": [
    "# Roll Number of Low Risk\n",
    "low_risk_last3days_clean"
   ]
  },
  {
   "cell_type": "code",
   "execution_count": 135,
   "metadata": {},
   "outputs": [],
   "source": [
    "# List of Roll Number of Students with \"Aarogya Setu\" app status Not Green in last 3 days based on latest submission\n",
    "not_green_last3days = df_last3days.loc[(df_last3days['Aarogyasetu_status'] != \"Green\")]\n",
    "not_green_last3days_clean = not_green_last3days.drop_duplicates(subset='roll', keep=\"last\")\n",
    "not_green_last3days_clean['roll'] = not_green_last3days_clean['roll'].astype(int)\n",
    "list_not_green_last3days_clean = list(not_green_last3days_clean['roll'])\n",
    "list_not_green_last3days_clean.sort()"
   ]
  },
  {
   "cell_type": "code",
   "execution_count": 136,
   "metadata": {},
   "outputs": [
    {
     "data": {
      "text/plain": [
       "[]"
      ]
     },
     "execution_count": 136,
     "metadata": {},
     "output_type": "execute_result"
    }
   ],
   "source": [
    "list_not_green_last3days_clean"
   ]
  },
  {
   "cell_type": "markdown",
   "metadata": {},
   "source": [
    "# <font color='blue'> Summary Statistics for Current Date </font>"
   ]
  },
  {
   "cell_type": "code",
   "execution_count": 140,
   "metadata": {},
   "outputs": [
    {
     "data": {
      "text/html": [
       "<div style = 'background-color: #504e4e; padding: 30px '><span style='color: orange; font-size:20px;'> Current Date and Time in YYYY-MM-DD & HH-MM-SS format : 2021-02-26; 14:02:56</span></div>"
      ],
      "text/plain": [
       "<IPython.core.display.HTML object>"
      ]
     },
     "metadata": {},
     "output_type": "display_data"
    },
    {
     "data": {
      "text/html": [
       "<div style = 'background-color: #504e4e; padding: 30px '><span style='color: #fff; font-size:30px;'> Total Number of students in the Institute: 50</span></div>"
      ],
      "text/plain": [
       "<IPython.core.display.HTML object>"
      ]
     },
     "metadata": {},
     "output_type": "display_data"
    },
    {
     "data": {
      "text/html": [
       "<div style = 'background-color: #504e4e; padding: 30px '><span style='color: #66ff00; font-size:30px;'> Total Number of students submitted online form today till now: 36</span></div>"
      ],
      "text/plain": [
       "<IPython.core.display.HTML object>"
      ]
     },
     "metadata": {},
     "output_type": "display_data"
    },
    {
     "data": {
      "text/html": [
       "<div style = 'background-color: #504e4e; padding: 30px '><span style='color: red; font-size:30px;'> Total Number of students yet to submit online form today: 14</span></div>"
      ],
      "text/plain": [
       "<IPython.core.display.HTML object>"
      ]
     },
     "metadata": {},
     "output_type": "display_data"
    },
    {
     "data": {
      "text/html": [
       "<div style = 'background-color: #504e4e; padding: 30px '><span style='color: yellow; font-size:30px;'> Roll number of the students yet to submit online form today: [7, 11, 16, 21, 25, 26, 28, 32, 35, 37, 38, 39, 49, 50]</span></div>"
      ],
      "text/plain": [
       "<IPython.core.display.HTML object>"
      ]
     },
     "metadata": {},
     "output_type": "display_data"
    },
    {
     "data": {
      "text/html": [
       "<div style = 'background-color: #504e4e; padding: 30px '><span style='color: #66ff00; font-size:30px;'> Total number of the students who can attend the institute today: 36</span></div>"
      ],
      "text/plain": [
       "<IPython.core.display.HTML object>"
      ]
     },
     "metadata": {},
     "output_type": "display_data"
    },
    {
     "data": {
      "text/html": [
       "<div style = 'background-color: #504e4e; padding: 30px '><span style='color: #66ff00; font-size:30px;'> Roll number of the students who can attend the institute today: [1, 2, 3, 4, 5, 6, 8, 9, 10, 12, 13, 14, 15, 17, 18, 19, 20, 22, 23, 24, 27, 29, 30, 31, 33, 34, 36, 40, 41, 42, 43, 44, 45, 46, 47, 48]</span></div>"
      ],
      "text/plain": [
       "<IPython.core.display.HTML object>"
      ]
     },
     "metadata": {},
     "output_type": "display_data"
    },
    {
     "data": {
      "text/html": [
       "<div style = 'background-color: #504e4e; padding: 30px '><span style='color: red; font-size:25px;'> Total number of the students who can not attend the institute today: 0</span></div>"
      ],
      "text/plain": [
       "<IPython.core.display.HTML object>"
      ]
     },
     "metadata": {},
     "output_type": "display_data"
    },
    {
     "data": {
      "text/html": [
       "<div style = 'background-color: #504e4e; padding: 30px '><span style='color: red; font-size:30px;'> Roll number of the students who can not attend the institute today: []</span></div>"
      ],
      "text/plain": [
       "<IPython.core.display.HTML object>"
      ]
     },
     "metadata": {},
     "output_type": "display_data"
    },
    {
     "data": {
      "text/html": [
       "<div style = 'background-color: #504e4e; padding: 30px '><span style='color: yellow; font-size:30px;'> Total number of the students who may attend the institute today: 0</span></div>"
      ],
      "text/plain": [
       "<IPython.core.display.HTML object>"
      ]
     },
     "metadata": {},
     "output_type": "display_data"
    },
    {
     "data": {
      "text/html": [
       "<div style = 'background-color: #504e4e; padding: 30px '><span style='color: yellow; font-size:30px;'> Roll number of the students who may attend the institute today: []</span></div>"
      ],
      "text/plain": [
       "<IPython.core.display.HTML object>"
      ]
     },
     "metadata": {},
     "output_type": "display_data"
    },
    {
     "data": {
      "text/html": [
       "<div style = 'background-color: #504e4e; padding: 30px '><span style='color:#66ff00; font-size:30px;'> Number of Students with Aarogya Setu App Status GREEN: 36</span></div>"
      ],
      "text/plain": [
       "<IPython.core.display.HTML object>"
      ]
     },
     "metadata": {},
     "output_type": "display_data"
    },
    {
     "data": {
      "text/html": [
       "<div style = 'background-color: #504e4e; padding: 30px '><span style='color:pink; font-size:30px;'> Number of Students with Aarogya Setu App Status NOT GREEN: 0</span></div>"
      ],
      "text/plain": [
       "<IPython.core.display.HTML object>"
      ]
     },
     "metadata": {},
     "output_type": "display_data"
    },
    {
     "data": {
      "text/html": [
       "<div style = 'background-color: #504e4e; padding: 30px '><span style='color:red; font-size:20px;'> Based on last 3 days submission, students with following roll numbers must be contacted individually by the institute authority for latest update about their risk status: [31]</span></div>"
      ],
      "text/plain": [
       "<IPython.core.display.HTML object>"
      ]
     },
     "metadata": {},
     "output_type": "display_data"
    },
    {
     "data": {
      "text/html": [
       "<div style = 'background-color: #504e4e; padding: 30px '><span style='color:yellow; font-size:20px;'> Based on last 3 days submission, students with following roll numbers may be contacted individually by the institute authority for latest update about their comorbidity: [26]</span></div>"
      ],
      "text/plain": [
       "<IPython.core.display.HTML object>"
      ]
     },
     "metadata": {},
     "output_type": "display_data"
    },
    {
     "data": {
      "text/html": [
       "<div style = 'background-color: #504e4e; padding: 30px '><span style='color:yellow; font-size:20px;'> Based on last 3 days submission of Aarogya Setu app status, students with following roll numbers may be contacted individually by the institute authority for latest update about their Aarogya Setu App status: []</span></div>"
      ],
      "text/plain": [
       "<IPython.core.display.HTML object>"
      ]
     },
     "metadata": {},
     "output_type": "display_data"
    }
   ],
   "source": [
    "display(HTML(\"<div style = 'background-color: #504e4e; padding: 30px '>\" +\n",
    "             \"<span style='color: orange; font-size:20px;'> Current Date and Time in YYYY-MM-DD & HH-MM-SS format : \" + str(dt_string) + \"</span>\" +\n",
    "             \"</div>\")\n",
    "       )\n",
    "\n",
    "display(HTML(\"<div style = 'background-color: #504e4e; padding: 30px '>\" +\n",
    "             \"<span style='color: #fff; font-size:30px;'> Total Number of students in the Institute: \" + str(50) + \"</span>\" +\n",
    "             \"</div>\")\n",
    "       )\n",
    "\n",
    "yet_to_submit = 50 - today_submission\n",
    "\n",
    "display(HTML(\"<div style = 'background-color: #504e4e; padding: 30px '>\" +\n",
    "             \"<span style='color: #66ff00; font-size:30px;'> Total Number of students submitted online form today till now: \"  + str(today_submission) +\"</span>\" +\n",
    "             \"</div>\")\n",
    "       )\n",
    "display(HTML(\"<div style = 'background-color: #504e4e; padding: 30px '>\" +\n",
    "             \"<span style='color: red; font-size:30px;'> Total Number of students yet to submit online form today: \" + str(yet_to_submit) + \"</span>\"+\n",
    "             \"</div>\")\n",
    "       )\n",
    "\n",
    "display(HTML(\"<div style = 'background-color: #504e4e; padding: 30px '>\" +\n",
    "             \"<span style='color: yellow; font-size:30px;'> Roll number of the students yet to submit online form today: \" + str(missing) + \"</span>\"+\n",
    "             \"</div>\")\n",
    "       )\n",
    "\n",
    "display(HTML(\"<div style = 'background-color: #504e4e; padding: 30px '>\" +\n",
    "             \"<span style='color: #66ff00; font-size:30px;'> Total number of the students who can attend the institute today: \" + str(len(list_can_attend)) + \"</span>\"+\n",
    "             \"</div>\")\n",
    "       )\n",
    "\n",
    "\n",
    "display(HTML(\"<div style = 'background-color: #504e4e; padding: 30px '>\" +\n",
    "             \"<span style='color: #66ff00; font-size:30px;'> Roll number of the students who can attend the institute today: \" + str(list_can_attend) + \"</span>\"+\n",
    "             \"</div>\")\n",
    "       )\n",
    "\n",
    "display(HTML(\"<div style = 'background-color: #504e4e; padding: 30px '>\" +\n",
    "             \"<span style='color: red; font-size:25px;'> Total number of the students who can not attend the institute today: \" + str(len(list_can_not_attend)) + \"</span>\"+\n",
    "             \"</div>\")\n",
    "       )\n",
    "\n",
    "\n",
    "display(HTML(\"<div style = 'background-color: #504e4e; padding: 30px '>\" +\n",
    "             \"<span style='color: red; font-size:30px;'> Roll number of the students who can not attend the institute today: \" + str(list_can_not_attend) + \"</span>\"+\n",
    "             \"</div>\")\n",
    "       )\n",
    "\n",
    "display(HTML(\"<div style = 'background-color: #504e4e; padding: 30px '>\" +\n",
    "             \"<span style='color: yellow; font-size:30px;'> Total number of the students who may attend the institute today: \" + str(len(list_may_attend)) + \"</span>\"+\n",
    "             \"</div>\")\n",
    "       )\n",
    "\n",
    "\n",
    "display(HTML(\"<div style = 'background-color: #504e4e; padding: 30px '>\" +\n",
    "             \"<span style='color: yellow; font-size:30px;'> Roll number of the students who may attend the institute today: \" + str(list_may_attend) + \"</span>\"+\n",
    "             \"</div>\")\n",
    "       )\n",
    "display(HTML(\"<div style = 'background-color: #504e4e; padding: 30px '>\" +\n",
    "             \"<span style='color:#66ff00; font-size:30px;'> Number of Students with Aarogya Setu App Status GREEN: \" + str(today_green) + \"</span>\"+\n",
    "             \"</div>\")\n",
    "       )\n",
    "\n",
    "display(HTML(\"<div style = 'background-color: #504e4e; padding: 30px '>\" +\n",
    "             \"<span style='color:pink; font-size:30px;'> Number of Students with Aarogya Setu App Status NOT GREEN: \" + str(today_not_green) + \"</span>\"+\n",
    "             \"</div>\")\n",
    "       )\n",
    "\n",
    "display(HTML(\"<div style = 'background-color: #504e4e; padding: 30px '>\" +\n",
    "             \"<span style='color:red; font-size:20px;'> Based on last 3 days submission, students with following roll numbers must be contacted individually by the institute authority for latest update about their risk status: \" + str(high_risk_last3days_clean) + \"</span>\"+\n",
    "             \"</div>\")\n",
    "       )\n",
    "\n",
    "display(HTML(\"<div style = 'background-color: #504e4e; padding: 30px '>\" +\n",
    "             \"<span style='color:yellow; font-size:20px;'> Based on last 3 days submission, students with following roll numbers may be contacted individually by the institute authority for latest update about their comorbidity: \" + str(low_risk_last3days_clean) + \"</span>\"+\n",
    "             \"</div>\")\n",
    "       )\n",
    "\n",
    "display(HTML(\"<div style = 'background-color: #504e4e; padding: 30px '>\" +\n",
    "             \"<span style='color:yellow; font-size:20px;'> Based on last 3 days submission of Aarogya Setu app status, students with following roll numbers may be contacted individually by the institute authority for latest update about their Aarogya Setu App status: \" + str(list_not_green_last3days_clean) + \"</span>\"+\n",
    "             \"</div>\")\n",
    "       )"
   ]
  },
  {
   "cell_type": "code",
   "execution_count": 109,
   "metadata": {},
   "outputs": [
    {
     "data": {
      "image/png": "[encoded data removed]",
      "text/plain": [
       "<Figure size 1080x360 with 3 Axes>"
      ]
     },
     "metadata": {
      "needs_background": "light"
     },
     "output_type": "display_data"
    }
   ],
   "source": [
    "# Figure Related to Sign, Symptoms and Comorbid condition of current date\n",
    "fig, ax =plt.subplots(1,3,figsize=(15,5))\n",
    "sns.countplot(x='temperature',data=df_today_clean,ax=ax[0])\n",
    "sns.countplot(x='symptopms',data=df_today_clean,ax=ax[1] )\n",
    "sns.countplot(x='comorbidity',data=df_today_clean,ax=ax[2] )\n",
    "fig.tight_layout()\n",
    "fig.show()"
   ]
  },
  {
   "cell_type": "code",
   "execution_count": 110,
   "metadata": {},
   "outputs": [
    {
     "data": {
      "image/png": "[encoded data removed]",
      "text/plain": [
       "<Figure size 1080x360 with 3 Axes>"
      ]
     },
     "metadata": {
      "needs_background": "light"
     },
     "output_type": "display_data"
    }
   ],
   "source": [
    "# Figure Related to Containmnet Zone Status, International Travel and Recent Contact of current date\n",
    "fig, ax =plt.subplots(1,3,figsize=(15,5))\n",
    "sns.countplot(x='containment_zone',data=df_today_clean,ax=ax[0])\n",
    "sns.countplot(x='international_travel',data=df_today_clean,ax=ax[1] )\n",
    "sns.countplot(x='recent_contact',data=df_today_clean,ax=ax[2] )\n",
    "fig.tight_layout()\n",
    "fig.show()"
   ]
  },
  {
   "cell_type": "code",
   "execution_count": null,
   "metadata": {},
   "outputs": [],
   "source": []
  }
 ],
 "metadata": {
  "hide_input": false,
  "kernelspec": {
   "display_name": "Python 3",
   "language": "python",
   "name": "python3"
  },
  "language_info": {
   "codemirror_mode": {
    "name": "ipython",
    "version": 3
   },
   "file_extension": ".py",
   "mimetype": "text/x-python",
   "name": "python",
   "nbconvert_exporter": "python",
   "pygments_lexer": "ipython3",
   "version": "3.6.9"
  }
 },
 "nbformat": 4,
 "nbformat_minor": 2
}
